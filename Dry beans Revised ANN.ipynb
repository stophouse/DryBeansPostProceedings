{
 "cells": [
  {
   "cell_type": "code",
   "execution_count": 1,
   "id": "9138129a",
   "metadata": {},
   "outputs": [],
   "source": [
    "import pandas as pd\n",
    "import numpy as np\n",
    "import seaborn as sns\n",
    "import matplotlib.pyplot as plt\n",
    "\n",
    "#imports from keras for ANN\n",
    "import keras\n",
    "from keras.models import Sequential\n",
    "from keras.layers import Dense,Dropout\n",
    "from keras.layers.normalization import BatchNormalization\n",
    "from keras import backend\n",
    "from keras.utils.vis_utils import plot_model\n",
    "from keras.utils import np_utils\n",
    "\n",
    "# imports of useful functions from sci-kit learn\n",
    "from sklearn.model_selection import train_test_split\n",
    "from sklearn.metrics import accuracy_score\n",
    "from sklearn.pipeline import Pipeline\n",
    "from sklearn.preprocessing import StandardScaler"
   ]
  },
  {
   "cell_type": "code",
   "execution_count": 2,
   "id": "72e625fc",
   "metadata": {},
   "outputs": [
    {
     "data": {
      "text/html": [
       "<div>\n",
       "<style scoped>\n",
       "    .dataframe tbody tr th:only-of-type {\n",
       "        vertical-align: middle;\n",
       "    }\n",
       "\n",
       "    .dataframe tbody tr th {\n",
       "        vertical-align: top;\n",
       "    }\n",
       "\n",
       "    .dataframe thead th {\n",
       "        text-align: right;\n",
       "    }\n",
       "</style>\n",
       "<table border=\"1\" class=\"dataframe\">\n",
       "  <thead>\n",
       "    <tr style=\"text-align: right;\">\n",
       "      <th></th>\n",
       "      <th>Area</th>\n",
       "      <th>Perimeter</th>\n",
       "      <th>MajorAxisLength</th>\n",
       "      <th>MinorAxisLength</th>\n",
       "      <th>AspectRatio</th>\n",
       "      <th>Eccentricity</th>\n",
       "      <th>ConvexArea</th>\n",
       "      <th>EquivDiameter</th>\n",
       "      <th>Extent</th>\n",
       "      <th>Solidity</th>\n",
       "      <th>roundness</th>\n",
       "      <th>Compactness</th>\n",
       "      <th>ShapeFactor1</th>\n",
       "      <th>ShapeFactor2</th>\n",
       "      <th>ShapeFactor3</th>\n",
       "      <th>ShapeFactor4</th>\n",
       "    </tr>\n",
       "  </thead>\n",
       "  <tbody>\n",
       "    <tr>\n",
       "      <th>count</th>\n",
       "      <td>13611.000000</td>\n",
       "      <td>13611.000000</td>\n",
       "      <td>13611.000000</td>\n",
       "      <td>13611.000000</td>\n",
       "      <td>13611.000000</td>\n",
       "      <td>13611.000000</td>\n",
       "      <td>13611.000000</td>\n",
       "      <td>13611.000000</td>\n",
       "      <td>13611.000000</td>\n",
       "      <td>13611.000000</td>\n",
       "      <td>13611.000000</td>\n",
       "      <td>13611.000000</td>\n",
       "      <td>13611.000000</td>\n",
       "      <td>13611.000000</td>\n",
       "      <td>13611.000000</td>\n",
       "      <td>13611.000000</td>\n",
       "    </tr>\n",
       "    <tr>\n",
       "      <th>mean</th>\n",
       "      <td>53048.284549</td>\n",
       "      <td>855.283459</td>\n",
       "      <td>320.141867</td>\n",
       "      <td>202.270714</td>\n",
       "      <td>1.583242</td>\n",
       "      <td>0.750895</td>\n",
       "      <td>53768.200206</td>\n",
       "      <td>253.064220</td>\n",
       "      <td>0.749733</td>\n",
       "      <td>0.987143</td>\n",
       "      <td>0.873282</td>\n",
       "      <td>0.799864</td>\n",
       "      <td>0.006564</td>\n",
       "      <td>0.001716</td>\n",
       "      <td>0.643590</td>\n",
       "      <td>0.995063</td>\n",
       "    </tr>\n",
       "    <tr>\n",
       "      <th>std</th>\n",
       "      <td>29324.095717</td>\n",
       "      <td>214.289696</td>\n",
       "      <td>85.694186</td>\n",
       "      <td>44.970091</td>\n",
       "      <td>0.246678</td>\n",
       "      <td>0.092002</td>\n",
       "      <td>29774.915817</td>\n",
       "      <td>59.177120</td>\n",
       "      <td>0.049086</td>\n",
       "      <td>0.004660</td>\n",
       "      <td>0.059520</td>\n",
       "      <td>0.061713</td>\n",
       "      <td>0.001128</td>\n",
       "      <td>0.000596</td>\n",
       "      <td>0.098996</td>\n",
       "      <td>0.004366</td>\n",
       "    </tr>\n",
       "    <tr>\n",
       "      <th>min</th>\n",
       "      <td>20420.000000</td>\n",
       "      <td>524.736000</td>\n",
       "      <td>183.601165</td>\n",
       "      <td>122.512653</td>\n",
       "      <td>1.024868</td>\n",
       "      <td>0.218951</td>\n",
       "      <td>20684.000000</td>\n",
       "      <td>161.243764</td>\n",
       "      <td>0.555315</td>\n",
       "      <td>0.919246</td>\n",
       "      <td>0.489618</td>\n",
       "      <td>0.640577</td>\n",
       "      <td>0.002778</td>\n",
       "      <td>0.000564</td>\n",
       "      <td>0.410339</td>\n",
       "      <td>0.947687</td>\n",
       "    </tr>\n",
       "    <tr>\n",
       "      <th>25%</th>\n",
       "      <td>36328.000000</td>\n",
       "      <td>703.523500</td>\n",
       "      <td>253.303633</td>\n",
       "      <td>175.848170</td>\n",
       "      <td>1.432307</td>\n",
       "      <td>0.715928</td>\n",
       "      <td>36714.500000</td>\n",
       "      <td>215.068003</td>\n",
       "      <td>0.718634</td>\n",
       "      <td>0.985670</td>\n",
       "      <td>0.832096</td>\n",
       "      <td>0.762469</td>\n",
       "      <td>0.005900</td>\n",
       "      <td>0.001154</td>\n",
       "      <td>0.581359</td>\n",
       "      <td>0.993703</td>\n",
       "    </tr>\n",
       "    <tr>\n",
       "      <th>50%</th>\n",
       "      <td>44652.000000</td>\n",
       "      <td>794.941000</td>\n",
       "      <td>296.883367</td>\n",
       "      <td>192.431733</td>\n",
       "      <td>1.551124</td>\n",
       "      <td>0.764441</td>\n",
       "      <td>45178.000000</td>\n",
       "      <td>238.438026</td>\n",
       "      <td>0.759859</td>\n",
       "      <td>0.988283</td>\n",
       "      <td>0.883157</td>\n",
       "      <td>0.801277</td>\n",
       "      <td>0.006645</td>\n",
       "      <td>0.001694</td>\n",
       "      <td>0.642044</td>\n",
       "      <td>0.996386</td>\n",
       "    </tr>\n",
       "    <tr>\n",
       "      <th>75%</th>\n",
       "      <td>61332.000000</td>\n",
       "      <td>977.213000</td>\n",
       "      <td>376.495012</td>\n",
       "      <td>217.031741</td>\n",
       "      <td>1.707109</td>\n",
       "      <td>0.810466</td>\n",
       "      <td>62294.000000</td>\n",
       "      <td>279.446467</td>\n",
       "      <td>0.786851</td>\n",
       "      <td>0.990013</td>\n",
       "      <td>0.916869</td>\n",
       "      <td>0.834270</td>\n",
       "      <td>0.007271</td>\n",
       "      <td>0.002170</td>\n",
       "      <td>0.696006</td>\n",
       "      <td>0.997883</td>\n",
       "    </tr>\n",
       "    <tr>\n",
       "      <th>max</th>\n",
       "      <td>254616.000000</td>\n",
       "      <td>1985.370000</td>\n",
       "      <td>738.860153</td>\n",
       "      <td>460.198497</td>\n",
       "      <td>2.430306</td>\n",
       "      <td>0.911423</td>\n",
       "      <td>263261.000000</td>\n",
       "      <td>569.374358</td>\n",
       "      <td>0.866195</td>\n",
       "      <td>0.994677</td>\n",
       "      <td>0.990685</td>\n",
       "      <td>0.987303</td>\n",
       "      <td>0.010451</td>\n",
       "      <td>0.003665</td>\n",
       "      <td>0.974767</td>\n",
       "      <td>0.999733</td>\n",
       "    </tr>\n",
       "  </tbody>\n",
       "</table>\n",
       "</div>"
      ],
      "text/plain": [
       "                Area     Perimeter  MajorAxisLength  MinorAxisLength  \\\n",
       "count   13611.000000  13611.000000     13611.000000     13611.000000   \n",
       "mean    53048.284549    855.283459       320.141867       202.270714   \n",
       "std     29324.095717    214.289696        85.694186        44.970091   \n",
       "min     20420.000000    524.736000       183.601165       122.512653   \n",
       "25%     36328.000000    703.523500       253.303633       175.848170   \n",
       "50%     44652.000000    794.941000       296.883367       192.431733   \n",
       "75%     61332.000000    977.213000       376.495012       217.031741   \n",
       "max    254616.000000   1985.370000       738.860153       460.198497   \n",
       "\n",
       "        AspectRatio  Eccentricity     ConvexArea  EquivDiameter        Extent  \\\n",
       "count  13611.000000  13611.000000   13611.000000   13611.000000  13611.000000   \n",
       "mean       1.583242      0.750895   53768.200206     253.064220      0.749733   \n",
       "std        0.246678      0.092002   29774.915817      59.177120      0.049086   \n",
       "min        1.024868      0.218951   20684.000000     161.243764      0.555315   \n",
       "25%        1.432307      0.715928   36714.500000     215.068003      0.718634   \n",
       "50%        1.551124      0.764441   45178.000000     238.438026      0.759859   \n",
       "75%        1.707109      0.810466   62294.000000     279.446467      0.786851   \n",
       "max        2.430306      0.911423  263261.000000     569.374358      0.866195   \n",
       "\n",
       "           Solidity     roundness   Compactness  ShapeFactor1  ShapeFactor2  \\\n",
       "count  13611.000000  13611.000000  13611.000000  13611.000000  13611.000000   \n",
       "mean       0.987143      0.873282      0.799864      0.006564      0.001716   \n",
       "std        0.004660      0.059520      0.061713      0.001128      0.000596   \n",
       "min        0.919246      0.489618      0.640577      0.002778      0.000564   \n",
       "25%        0.985670      0.832096      0.762469      0.005900      0.001154   \n",
       "50%        0.988283      0.883157      0.801277      0.006645      0.001694   \n",
       "75%        0.990013      0.916869      0.834270      0.007271      0.002170   \n",
       "max        0.994677      0.990685      0.987303      0.010451      0.003665   \n",
       "\n",
       "       ShapeFactor3  ShapeFactor4  \n",
       "count  13611.000000  13611.000000  \n",
       "mean       0.643590      0.995063  \n",
       "std        0.098996      0.004366  \n",
       "min        0.410339      0.947687  \n",
       "25%        0.581359      0.993703  \n",
       "50%        0.642044      0.996386  \n",
       "75%        0.696006      0.997883  \n",
       "max        0.974767      0.999733  "
      ]
     },
     "execution_count": 2,
     "metadata": {},
     "output_type": "execute_result"
    }
   ],
   "source": [
    "data = pd.read_excel('Dry_Bean_Dataset.xlsx')\n",
    "data.rename(columns={'AspectRation':'AspectRatio'},inplace=True) # obvious spelling correction\n",
    "data.describe()"
   ]
  },
  {
   "cell_type": "code",
   "execution_count": 3,
   "id": "a88271a1",
   "metadata": {},
   "outputs": [],
   "source": [
    "#Elimination of several features to remove too much corelated features (less than -0.9 or more 0.9)\n",
    "data8= data.drop(['Area','Perimeter','ConvexArea','EquivDiameter','Compactness',\n",
    "                    'Eccentricity', 'ShapeFactor1','ShapeFactor3'],axis=1)\n",
    "# correlation of left features, saving and download\n",
    "#beans8Corr=beans8.corr()\n",
    "#beans8Corr.to_csv('beans8Corr.csv')\n",
    "#files.download('beans8Corr.csv')\n",
    "Xdata8=data8.drop('Class',axis=1)\n",
    "Ydata=data[\"Class\"]"
   ]
  },
  {
   "cell_type": "code",
   "execution_count": 4,
   "id": "16ecc4dc",
   "metadata": {},
   "outputs": [],
   "source": [
    "from sklearn.preprocessing import LabelEncoder\n",
    "dataANN=data8\n",
    "LE = LabelEncoder()\n",
    "dataANN['code'] = LE.fit_transform(data8['Class'])"
   ]
  },
  {
   "cell_type": "code",
   "execution_count": 16,
   "id": "727f66e3",
   "metadata": {},
   "outputs": [],
   "source": [
    "from sklearn.model_selection import train_test_split\n",
    "\n",
    "Xdata=dataANN.drop(['Class','code'],axis=1)\n",
    "Ydata=dataANN[\"code\"]\n",
    "# random states used 7,17,27,37,47\n",
    "Xtrain,Xtest,Ytrain,Ytest=train_test_split(Xdata,Ydata,test_size=0.2,random_state=17)\n",
    "YtrainKat = np_utils.to_categorical(Ytrain,7)"
   ]
  },
  {
   "cell_type": "code",
   "execution_count": 17,
   "id": "f27f40f2",
   "metadata": {},
   "outputs": [],
   "source": [
    "sc = StandardScaler()\n",
    "XtrainScal = sc.fit_transform(Xtrain) # średnią i std wyliczam na podstawie tego zbioru\n",
    "XtestScal = sc.transform(Xtest) # używam średniej i std wyliczonej dla Xtrain\n"
   ]
  },
  {
   "cell_type": "code",
   "execution_count": 18,
   "id": "969f784f",
   "metadata": {},
   "outputs": [],
   "source": [
    "ann=Sequential()\n",
    "\n",
    "ann.add(Dense(16,input_dim=8,activation = 'relu'))\n",
    "\n",
    "# Bulding Second and third layer\n",
    "\n",
    "ann.add(Dense(8,activation='relu'))\n",
    "\n",
    "# Output Layer\n",
    "ann.add(Dense(7,activation='softmax'))\n",
    "ann.compile(optimizer='rmsprop',loss='categorical_crossentropy',metrics=['accuracy'])"
   ]
  },
  {
   "cell_type": "code",
   "execution_count": 11,
   "id": "a9732222",
   "metadata": {},
   "outputs": [
    {
     "data": {
      "image/png": "[encoded data removed]",
      "text/plain": [
       "<IPython.core.display.Image object>"
      ]
     },
     "execution_count": 11,
     "metadata": {},
     "output_type": "execute_result"
    }
   ],
   "source": [
    "from keras.utils.vis_utils import plot_model\n",
    "plot_model(ann, to_file='ann.png', show_shapes=True, show_layer_names=False)\n",
    "#files.download('annSmall.png')"
   ]
  },
  {
   "cell_type": "code",
   "execution_count": 8,
   "id": "67f9717a",
   "metadata": {},
   "outputs": [
    {
     "name": "stdout",
     "output_type": "stream",
     "text": [
      "Epoch 1/10\n",
      "273/273 [==============================] - 1s 4ms/step - loss: 1.3352 - accuracy: 0.5280 - val_loss: 0.9115 - val_accuracy: 0.7287\n",
      "Epoch 2/10\n",
      "273/273 [==============================] - 1s 2ms/step - loss: 0.6603 - accuracy: 0.8026 - val_loss: 0.4618 - val_accuracy: 0.8609\n",
      "Epoch 3/10\n",
      "273/273 [==============================] - 1s 2ms/step - loss: 0.3662 - accuracy: 0.8966 - val_loss: 0.3109 - val_accuracy: 0.9031\n",
      "Epoch 4/10\n",
      "273/273 [==============================] - 1s 2ms/step - loss: 0.2675 - accuracy: 0.9214 - val_loss: 0.2467 - val_accuracy: 0.9164\n",
      "Epoch 5/10\n",
      "273/273 [==============================] - 1s 3ms/step - loss: 0.2338 - accuracy: 0.9247 - val_loss: 0.2312 - val_accuracy: 0.9160\n",
      "Epoch 6/10\n",
      "273/273 [==============================] - 1s 3ms/step - loss: 0.2221 - accuracy: 0.9248 - val_loss: 0.2206 - val_accuracy: 0.9178\n",
      "Epoch 7/10\n",
      "273/273 [==============================] - 1s 3ms/step - loss: 0.2167 - accuracy: 0.9259 - val_loss: 0.2142 - val_accuracy: 0.9192\n",
      "Epoch 8/10\n",
      "273/273 [==============================] - 1s 3ms/step - loss: 0.2134 - accuracy: 0.9264 - val_loss: 0.2138 - val_accuracy: 0.9187\n",
      "Epoch 9/10\n",
      "273/273 [==============================] - 1s 3ms/step - loss: 0.2105 - accuracy: 0.9278 - val_loss: 0.2088 - val_accuracy: 0.9206\n",
      "Epoch 10/10\n",
      "273/273 [==============================] - 1s 3ms/step - loss: 0.2087 - accuracy: 0.9281 - val_loss: 0.2168 - val_accuracy: 0.9192\n",
      "Wall time: 10 s\n"
     ]
    }
   ],
   "source": [
    "%time histTrain=ann.fit(XtrainScal,YtrainKat,epochs=10,batch_size=32,validation_split=0.2)"
   ]
  },
  {
   "cell_type": "code",
   "execution_count": 9,
   "id": "c8228c78",
   "metadata": {},
   "outputs": [
    {
     "data": {
      "text/plain": [
       "<matplotlib.legend.Legend at 0x1bf7ce8b3a0>"
      ]
     },
     "execution_count": 9,
     "metadata": {},
     "output_type": "execute_result"
    },
    {
     "data": {
      "image/png": "[encoded data removed]",
      "text/plain": [
       "<Figure size 432x288 with 1 Axes>"
      ]
     },
     "metadata": {
      "needs_background": "light"
     },
     "output_type": "display_data"
    }
   ],
   "source": [
    "from matplotlib import pyplot as plt\n",
    "plt.plot(histTrain.history['accuracy'])\n",
    "plt.plot(histTrain.history['val_accuracy'])\n",
    "plt.title('Rectified Linear Unit (ReLU) activation')\n",
    "plt.ylabel('accuracy')\n",
    "plt.xlabel('epoch')\n",
    "plt.legend(['train', 'validation'], loc='lower right')"
   ]
  },
  {
   "cell_type": "code",
   "execution_count": 39,
   "id": "dc7998bd",
   "metadata": {},
   "outputs": [
    {
     "name": "stdout",
     "output_type": "stream",
     "text": [
      "Wall time: 72.8 ms\n",
      "Porównanie formatów danych \n",
      " YpredKat[0] =  [2.82046414e-04 9.99677896e-01 4.00765421e-05 1.95712846e-19\n",
      " 3.84285804e-15 1.02044824e-13 1.39959013e-16] \n",
      " Ypred[0] =  1\n",
      "Trafność dla sieci gęstej =  0.9184722732280572\n"
     ]
    }
   ],
   "source": [
    "%time YpredKatSmall=ann.predict(XtestScal) # prediction by ANN\n",
    "YpredSmall= np.argmax(YpredKatSmall,axis=1) # move from one-hot encoder to classes\n",
    "\n",
    "print( \"Compare data formats\\n\", 'YpredKat[0] = ', YpredKatSmall[0],\"\\n Ypred[0] = \",YpredSmall[0])\n",
    "accSmall=accuracy_score(YpredSmall,Ytest)\n",
    "print('Accuracy = ', accSmall)"
   ]
  },
  {
   "cell_type": "code",
   "execution_count": 10,
   "id": "7b974fa2",
   "metadata": {},
   "outputs": [],
   "source": [
    "annElu=Sequential()\n",
    "\n",
    "annElu.add(Dense(16,input_dim=8,activation = 'elu'))\n",
    "\n",
    "# Bulding Second and third layer\n",
    "\n",
    "annElu.add(Dense(8,activation='elu'))\n",
    "\n",
    "# Output Layer\n",
    "annElu.add(Dense(7,activation='softmax'))\n",
    "annElu.compile(optimizer='rmsprop',loss='categorical_crossentropy',metrics=['accuracy'])"
   ]
  },
  {
   "cell_type": "code",
   "execution_count": 11,
   "id": "093ba5ea",
   "metadata": {},
   "outputs": [
    {
     "name": "stdout",
     "output_type": "stream",
     "text": [
      "Epoch 1/10\n",
      "273/273 [==============================] - 1s 4ms/step - loss: 1.1102 - accuracy: 0.6098 - val_loss: 0.6580 - val_accuracy: 0.7920\n",
      "Epoch 2/10\n",
      "273/273 [==============================] - 1s 3ms/step - loss: 0.4900 - accuracy: 0.8558 - val_loss: 0.3783 - val_accuracy: 0.8921\n",
      "Epoch 3/10\n",
      "273/273 [==============================] - 1s 3ms/step - loss: 0.3105 - accuracy: 0.9140 - val_loss: 0.2741 - val_accuracy: 0.9114\n",
      "Epoch 4/10\n",
      "273/273 [==============================] - 1s 3ms/step - loss: 0.2474 - accuracy: 0.9226 - val_loss: 0.2346 - val_accuracy: 0.9187\n",
      "Epoch 5/10\n",
      "273/273 [==============================] - 1s 3ms/step - loss: 0.2266 - accuracy: 0.9256 - val_loss: 0.2209 - val_accuracy: 0.9224\n",
      "Epoch 6/10\n",
      "273/273 [==============================] - 1s 3ms/step - loss: 0.2176 - accuracy: 0.9276 - val_loss: 0.2155 - val_accuracy: 0.9229\n",
      "Epoch 7/10\n",
      "273/273 [==============================] - 1s 3ms/step - loss: 0.2134 - accuracy: 0.9280 - val_loss: 0.2141 - val_accuracy: 0.9224\n",
      "Epoch 8/10\n",
      "273/273 [==============================] - 1s 2ms/step - loss: 0.2097 - accuracy: 0.9270 - val_loss: 0.2079 - val_accuracy: 0.9215\n",
      "Epoch 9/10\n",
      "273/273 [==============================] - 1s 3ms/step - loss: 0.2073 - accuracy: 0.9273 - val_loss: 0.2091 - val_accuracy: 0.9192\n",
      "Epoch 10/10\n",
      "273/273 [==============================] - 1s 3ms/step - loss: 0.2054 - accuracy: 0.9281 - val_loss: 0.2092 - val_accuracy: 0.9210\n",
      "Wall time: 9.41 s\n"
     ]
    }
   ],
   "source": [
    "%time histTrainElu=annElu.fit(XtrainScal,YtrainKat,epochs=10,batch_size=32,validation_split=0.2)"
   ]
  },
  {
   "cell_type": "code",
   "execution_count": 12,
   "id": "a419cd29",
   "metadata": {},
   "outputs": [
    {
     "data": {
      "text/plain": [
       "<matplotlib.legend.Legend at 0x1bf7ce5f580>"
      ]
     },
     "execution_count": 12,
     "metadata": {},
     "output_type": "execute_result"
    },
    {
     "data": {
      "image/png": "[encoded data removed]",
      "text/plain": [
       "<Figure size 432x288 with 1 Axes>"
      ]
     },
     "metadata": {
      "needs_background": "light"
     },
     "output_type": "display_data"
    }
   ],
   "source": [
    "from matplotlib import pyplot as plt\n",
    "plt.plot(histTrainElu.history['accuracy'])\n",
    "plt.plot(histTrainElu.history['val_accuracy'])\n",
    "plt.title('Exponential Linear Unit (ELU) Activation')\n",
    "plt.ylabel('accuracy')\n",
    "plt.xlabel('epoch')\n",
    "plt.legend(['train', 'validation'], loc='lower right')"
   ]
  },
  {
   "cell_type": "code",
   "execution_count": 83,
   "id": "8f7aa289",
   "metadata": {},
   "outputs": [
    {
     "name": "stdout",
     "output_type": "stream",
     "text": [
      "Wall time: 55.2 ms\n",
      "Porównanie formatów danych \n",
      " YpredKat[0] =  [7.4387758e-20 4.4119436e-10 6.8556775e-17 9.9999499e-01 1.5577271e-07\n",
      " 2.9967759e-07 4.5500328e-06] \n",
      " Ypred[0] =  3\n",
      "Trafność dla sieci gęstej =  0.9206757253029747\n"
     ]
    }
   ],
   "source": [
    "%time YpredKatSmall=annElu.predict(XtestScal) #\n",
    "YpredSmall= np.argmax(YpredKatSmall,axis=1) # \n",
    "# \n",
    "print( \"compare data format \\n\", 'YpredKat[0] = ', YpredKatSmall[0],\"\\n Ypred[0] = \",YpredSmall[0])\n",
    "accSmallElu=accuracy_score(YpredSmall,Ytest)\n",
    "print('Accuracy = ', accSmallElu)"
   ]
  },
  {
   "cell_type": "code",
   "execution_count": 19,
   "id": "20f2521d",
   "metadata": {},
   "outputs": [],
   "source": [
    "annSig=Sequential()\n",
    "\n",
    "annSig.add(Dense(16,input_dim=8,activation = 'sigmoid'))\n",
    "\n",
    "# Bulding Second and third layer\n",
    "\n",
    "annSig.add(Dense(8,activation='sigmoid'))\n",
    "\n",
    "# Output Layer\n",
    "annSig.add(Dense(7,activation='softmax'))\n",
    "annSig.compile(optimizer='rmsprop',loss='categorical_crossentropy',metrics=['accuracy'])"
   ]
  },
  {
   "cell_type": "code",
   "execution_count": 20,
   "id": "6914a88c",
   "metadata": {},
   "outputs": [
    {
     "name": "stdout",
     "output_type": "stream",
     "text": [
      "Epoch 1/30\n",
      "273/273 [==============================] - 1s 4ms/step - loss: 1.8438 - accuracy: 0.2546 - val_loss: 1.6657 - val_accuracy: 0.2599\n",
      "Epoch 2/30\n",
      "273/273 [==============================] - 1s 2ms/step - loss: 1.5080 - accuracy: 0.3917 - val_loss: 1.3737 - val_accuracy: 0.4380\n",
      "Epoch 3/30\n",
      "273/273 [==============================] - 1s 3ms/step - loss: 1.2854 - accuracy: 0.4660 - val_loss: 1.2208 - val_accuracy: 0.4784\n",
      "Epoch 4/30\n",
      "273/273 [==============================] - 1s 3ms/step - loss: 1.1615 - accuracy: 0.5044 - val_loss: 1.1134 - val_accuracy: 0.5294\n",
      "Epoch 5/30\n",
      "273/273 [==============================] - 1s 3ms/step - loss: 1.0451 - accuracy: 0.5891 - val_loss: 0.9841 - val_accuracy: 0.6102\n",
      "Epoch 6/30\n",
      "273/273 [==============================] - 1s 3ms/step - loss: 0.9084 - accuracy: 0.7046 - val_loss: 0.8425 - val_accuracy: 0.7865\n",
      "Epoch 7/30\n",
      "273/273 [==============================] - 1s 3ms/step - loss: 0.7760 - accuracy: 0.8039 - val_loss: 0.7168 - val_accuracy: 0.8163\n",
      "Epoch 8/30\n",
      "273/273 [==============================] - 1s 3ms/step - loss: 0.6615 - accuracy: 0.8406 - val_loss: 0.6154 - val_accuracy: 0.8444\n",
      "Epoch 9/30\n",
      "273/273 [==============================] - 1s 3ms/step - loss: 0.5713 - accuracy: 0.8564 - val_loss: 0.5402 - val_accuracy: 0.8522\n",
      "Epoch 10/30\n",
      "273/273 [==============================] - 1s 3ms/step - loss: 0.5047 - accuracy: 0.8627 - val_loss: 0.4855 - val_accuracy: 0.8549\n",
      "Epoch 11/30\n",
      "273/273 [==============================] - 1s 3ms/step - loss: 0.4559 - accuracy: 0.8664 - val_loss: 0.4452 - val_accuracy: 0.8558\n",
      "Epoch 12/30\n",
      "273/273 [==============================] - 1s 3ms/step - loss: 0.4195 - accuracy: 0.8698 - val_loss: 0.4139 - val_accuracy: 0.8613\n",
      "Epoch 13/30\n",
      "273/273 [==============================] - 1s 3ms/step - loss: 0.3909 - accuracy: 0.8712 - val_loss: 0.3918 - val_accuracy: 0.8641\n",
      "Epoch 14/30\n",
      "273/273 [==============================] - 1s 3ms/step - loss: 0.3682 - accuracy: 0.8698 - val_loss: 0.3713 - val_accuracy: 0.8627\n",
      "Epoch 15/30\n",
      "273/273 [==============================] - 1s 3ms/step - loss: 0.3492 - accuracy: 0.8723 - val_loss: 0.3549 - val_accuracy: 0.8636\n",
      "Epoch 16/30\n",
      "273/273 [==============================] - 1s 3ms/step - loss: 0.3332 - accuracy: 0.8862 - val_loss: 0.3423 - val_accuracy: 0.8985\n",
      "Epoch 17/30\n",
      "273/273 [==============================] - 1s 3ms/step - loss: 0.3203 - accuracy: 0.9106 - val_loss: 0.3317 - val_accuracy: 0.8967\n",
      "Epoch 18/30\n",
      "273/273 [==============================] - 1s 3ms/step - loss: 0.3094 - accuracy: 0.9109 - val_loss: 0.3228 - val_accuracy: 0.8972\n",
      "Epoch 19/30\n",
      "273/273 [==============================] - 1s 2ms/step - loss: 0.2994 - accuracy: 0.9118 - val_loss: 0.3153 - val_accuracy: 0.8981\n",
      "Epoch 20/30\n",
      "273/273 [==============================] - 1s 3ms/step - loss: 0.2911 - accuracy: 0.9111 - val_loss: 0.3084 - val_accuracy: 0.8962\n",
      "Epoch 21/30\n",
      "273/273 [==============================] - 1s 3ms/step - loss: 0.2838 - accuracy: 0.9130 - val_loss: 0.3020 - val_accuracy: 0.8990\n",
      "Epoch 22/30\n",
      "273/273 [==============================] - 1s 3ms/step - loss: 0.2774 - accuracy: 0.9133 - val_loss: 0.2975 - val_accuracy: 0.8994\n",
      "Epoch 23/30\n",
      "273/273 [==============================] - 1s 2ms/step - loss: 0.2715 - accuracy: 0.9139 - val_loss: 0.2921 - val_accuracy: 0.9004\n",
      "Epoch 24/30\n",
      "273/273 [==============================] - 1s 3ms/step - loss: 0.2662 - accuracy: 0.9152 - val_loss: 0.2873 - val_accuracy: 0.9022\n",
      "Epoch 25/30\n",
      "273/273 [==============================] - 1s 3ms/step - loss: 0.2614 - accuracy: 0.9156 - val_loss: 0.2833 - val_accuracy: 0.9013\n",
      "Epoch 26/30\n",
      "273/273 [==============================] - 1s 3ms/step - loss: 0.2572 - accuracy: 0.9170 - val_loss: 0.2812 - val_accuracy: 0.9017\n",
      "Epoch 27/30\n",
      "273/273 [==============================] - 1s 3ms/step - loss: 0.2533 - accuracy: 0.9166 - val_loss: 0.2772 - val_accuracy: 0.9027\n",
      "Epoch 28/30\n",
      "273/273 [==============================] - 1s 3ms/step - loss: 0.2501 - accuracy: 0.9171 - val_loss: 0.2734 - val_accuracy: 0.9031\n",
      "Epoch 29/30\n",
      "273/273 [==============================] - 1s 3ms/step - loss: 0.2467 - accuracy: 0.9164 - val_loss: 0.2714 - val_accuracy: 0.9027\n",
      "Epoch 30/30\n",
      "273/273 [==============================] - 1s 3ms/step - loss: 0.2439 - accuracy: 0.9188 - val_loss: 0.2682 - val_accuracy: 0.9040\n",
      "Wall time: 24.2 s\n"
     ]
    }
   ],
   "source": [
    "%time histTrainSig=annSig.fit(XtrainScal,YtrainKat,epochs=30,batch_size=32,validation_split=0.2)"
   ]
  },
  {
   "cell_type": "code",
   "execution_count": 21,
   "id": "a682d1f5",
   "metadata": {},
   "outputs": [
    {
     "data": {
      "text/plain": [
       "<matplotlib.legend.Legend at 0x1bf02bd7eb0>"
      ]
     },
     "execution_count": 21,
     "metadata": {},
     "output_type": "execute_result"
    },
    {
     "data": {
      "image/png": "[encoded data removed]",
      "text/plain": [
       "<Figure size 432x288 with 1 Axes>"
      ]
     },
     "metadata": {
      "needs_background": "light"
     },
     "output_type": "display_data"
    }
   ],
   "source": [
    "from matplotlib import pyplot as plt\n",
    "plt.plot(histTrainSig.history['accuracy'])\n",
    "plt.plot(histTrainSig.history['val_accuracy'])\n",
    "plt.title('Sigmoid activation')\n",
    "plt.ylabel('accuracy')\n",
    "plt.xlabel('epoch')\n",
    "plt.legend(['train', 'validation'], loc='lower right')"
   ]
  },
  {
   "cell_type": "code",
   "execution_count": 93,
   "id": "2e698fc0",
   "metadata": {},
   "outputs": [
    {
     "name": "stdout",
     "output_type": "stream",
     "text": [
      "Wall time: 54.5 ms\n",
      "Porównanie formatów danych \n",
      " YpredKat[0] =  [2.6873223e-04 2.0686691e-08 2.1110412e-03 2.9699487e-04 9.8794252e-01\n",
      " 3.4681939e-06 9.3772216e-03] \n",
      " Ypred[0] =  4\n",
      "Trafność dla sieci gęstej =  0.9140653690782226\n"
     ]
    }
   ],
   "source": [
    "%time YpredKatSmall=annSig.predict(XtestScal) # prediction\n",
    "YpredSmall= np.argmax(YpredKatSmall,axis=1) # move from one-hot to classes\n",
    "# compare data\n",
    "print( \"Compare data formats \\n\", 'YpredKat[0] = ', YpredKatSmall[0],\"\\n Ypred[0] = \",YpredSmall[0])\n",
    "accSmallSig=accuracy_score(YpredSmall,Ytest)\n",
    "print('Accuracy = ', accSmallSig)"
   ]
  },
  {
   "cell_type": "code",
   "execution_count": null,
   "id": "5869e46c",
   "metadata": {},
   "outputs": [],
   "source": []
  }
 ],
 "metadata": {
  "kernelspec": {
   "display_name": "Python 3",
   "language": "python",
   "name": "python3"
  },
  "language_info": {
   "codemirror_mode": {
    "name": "ipython",
    "version": 3
   },
   "file_extension": ".py",
   "mimetype": "text/x-python",
   "name": "python",
   "nbconvert_exporter": "python",
   "pygments_lexer": "ipython3",
   "version": "3.8.8"
  }
 },
 "nbformat": 4,
 "nbformat_minor": 5
}
